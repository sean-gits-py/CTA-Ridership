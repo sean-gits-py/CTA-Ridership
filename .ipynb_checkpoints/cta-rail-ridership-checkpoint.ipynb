{
 "cells": [
  {
   "cell_type": "code",
   "execution_count": null,
   "metadata": {},
   "outputs": [
    {
     "name": "stderr",
     "output_type": "stream",
     "text": [
      "WARNING:root:Requests made without an app_token will be subject to strict throttling limits.\n"
     ]
    }
   ],
   "source": [
    "import pandas as pd\n",
    "import datetime\n",
    "from sodapy import Socrata\n",
    "import plotly\n",
    "import plotly.express as px\n",
    "from keys import app_token\n",
    "\n",
    "\n",
    "# Request data from City of Chicago API for \"L Station Entries - Daily Totals\"\n",
    "# Please note:\n",
    "#   1. This data will only exist for CTA rail stations, CTA Bus data will not be included in this dataset\n",
    "#   2. Per CTA's \"L Station Entries - Daily Totals\" Readme.txt file (updated 08/12/2011), the dataset contains a data field labeled as 'Daytype'\n",
    "#       2.1 Daytype fields in the data are coded as:\n",
    "    #       \"W\" for Weekday\n",
    "    #       \"A\" for Saturday [and]\n",
    "    #       \"U\" for Sunday/Holidays.\n",
    "#       2.2 Note that New Year's Day, Memorial Day, Independence Day, Labor Day, Thanksgiving, and Christmas Day are considered as \"Sundays\" for the purposes of ridership reporting.\n",
    "#       2.3 All other holidays are reported as the type of day they fall on.\n",
    "\n",
    "#client = Socrata(\"data.cityofchicago.org\", app_token)\n",
    "client = Socrata(\"data.cityofchicago.org\", None)\n",
    "results = client.get_all(\"5neh-572f\", limit=10) #limit=1000\n",
    "results_df = pd.DataFrame.from_records(results)\n",
    "results_df.head()\n",
    "\n"
   ]
  },
  {
   "cell_type": "code",
   "execution_count": null,
   "metadata": {},
   "outputs": [],
   "source": [
    "# converting the float to datetime format\n",
    "results_df['date'] = pd.to_datetime(results_df['date'], format='%Y/%m/%d')#.date()\n",
    "\n",
    "\n",
    "results_df['year'] = pd.DatetimeIndex(results_df['date']).year\n",
    "results_df['month'] = pd.DatetimeIndex(results_df['date']).month\n",
    "results_df['month_year'] = pd.to_datetime(results_df['date']).dt.to_period('M')\n",
    "\n",
    "#results_df.reset_index()\n",
    "\n",
    "results_df.head()\n",
    "#results_df.tail()"
   ]
  },
  {
   "cell_type": "code",
   "execution_count": null,
   "metadata": {},
   "outputs": [],
   "source": []
  }
 ],
 "metadata": {
  "kernelspec": {
   "display_name": "Python 3 (ipykernel)",
   "language": "python",
   "name": "python3"
  },
  "language_info": {
   "codemirror_mode": {
    "name": "ipython",
    "version": 3
   },
   "file_extension": ".py",
   "mimetype": "text/x-python",
   "name": "python",
   "nbconvert_exporter": "python",
   "pygments_lexer": "ipython3",
   "version": "3.11.1"
  }
 },
 "nbformat": 4,
 "nbformat_minor": 1
}
